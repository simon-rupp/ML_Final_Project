{
 "cells": [
  {
   "cell_type": "markdown",
   "metadata": {},
   "source": [
    "Install appropriate packages and load in datasets from NHANES"
   ]
  },
  {
   "cell_type": "code",
   "execution_count": 312,
   "metadata": {},
   "outputs": [],
   "source": [
    "# !pip install xport pandas numpy matplotlib scikit-learn pyreadstat"
   ]
  },
  {
   "cell_type": "code",
   "execution_count": 313,
   "metadata": {},
   "outputs": [],
   "source": [
    "import os\n",
    "import pandas as pd\n",
    "import numpy as np\n",
    "import matplotlib.pyplot as plt\n",
    "from functools import reduce\n",
    "from sklearn.utils import resample\n",
    "from sklearn.model_selection import train_test_split, GridSearchCV, cross_val_score\n",
    "from sklearn.linear_model import LogisticRegression\n",
    "from sklearn.preprocessing import StandardScaler\n",
    "from sklearn.ensemble import RandomForestClassifier, StackingClassifier\n",
    "from sklearn.metrics import accuracy_score, classification_report\n",
    "from sklearn.impute import SimpleImputer, KNNImputer\n",
    "from sklearn.inspection import permutation_importance\n",
    "from xgboost import XGBClassifier\n",
    "from lightgbm import LGBMClassifier\n",
    "from sklearn.svm import SVC\n",
    "import warnings\n",
    "warnings.filterwarnings(\"ignore\")\n"
   ]
  },
  {
   "cell_type": "code",
   "execution_count": 314,
   "metadata": {},
   "outputs": [],
   "source": [
    "# Constants that can be changed\n",
    "MISSINGNESS_THRESHOLD = 20\n",
    "IMPUTATION_STRATEGY = 'mean'\n",
    "KNN_NEIGHBORS = 5\n",
    "BINARY_THRESHOLD = 10"
   ]
  },
  {
   "cell_type": "code",
   "execution_count": 315,
   "metadata": {},
   "outputs": [],
   "source": [
    "# DPQ_L.xpt is the dataset containg depression questions\n",
    "depression_df = pd.read_sas('datasets/questionaire_data/DPQ_L.xpt', format='xport', encoding='latin1')\n"
   ]
  },
  {
   "cell_type": "markdown",
   "metadata": {},
   "source": [
    "Describe the dataset"
   ]
  },
  {
   "cell_type": "code",
   "execution_count": 316,
   "metadata": {},
   "outputs": [
    {
     "data": {
      "text/html": [
       "<div>\n",
       "<style scoped>\n",
       "    .dataframe tbody tr th:only-of-type {\n",
       "        vertical-align: middle;\n",
       "    }\n",
       "\n",
       "    .dataframe tbody tr th {\n",
       "        vertical-align: top;\n",
       "    }\n",
       "\n",
       "    .dataframe thead th {\n",
       "        text-align: right;\n",
       "    }\n",
       "</style>\n",
       "<table border=\"1\" class=\"dataframe\">\n",
       "  <thead>\n",
       "    <tr style=\"text-align: right;\">\n",
       "      <th></th>\n",
       "      <th>SEQN</th>\n",
       "      <th>DPQ010</th>\n",
       "      <th>DPQ020</th>\n",
       "      <th>DPQ030</th>\n",
       "      <th>DPQ040</th>\n",
       "      <th>DPQ050</th>\n",
       "      <th>DPQ060</th>\n",
       "      <th>DPQ070</th>\n",
       "      <th>DPQ080</th>\n",
       "      <th>DPQ090</th>\n",
       "      <th>DPQ100</th>\n",
       "    </tr>\n",
       "  </thead>\n",
       "  <tbody>\n",
       "    <tr>\n",
       "      <th>0</th>\n",
       "      <td>130378.0</td>\n",
       "      <td>NaN</td>\n",
       "      <td>NaN</td>\n",
       "      <td>NaN</td>\n",
       "      <td>NaN</td>\n",
       "      <td>NaN</td>\n",
       "      <td>NaN</td>\n",
       "      <td>NaN</td>\n",
       "      <td>NaN</td>\n",
       "      <td>NaN</td>\n",
       "      <td>NaN</td>\n",
       "    </tr>\n",
       "    <tr>\n",
       "      <th>1</th>\n",
       "      <td>130379.0</td>\n",
       "      <td>5.397605e-79</td>\n",
       "      <td>5.397605e-79</td>\n",
       "      <td>1.000000e+00</td>\n",
       "      <td>5.397605e-79</td>\n",
       "      <td>5.397605e-79</td>\n",
       "      <td>5.397605e-79</td>\n",
       "      <td>5.397605e-79</td>\n",
       "      <td>5.397605e-79</td>\n",
       "      <td>5.397605e-79</td>\n",
       "      <td>5.397605e-79</td>\n",
       "    </tr>\n",
       "    <tr>\n",
       "      <th>2</th>\n",
       "      <td>130380.0</td>\n",
       "      <td>5.397605e-79</td>\n",
       "      <td>5.397605e-79</td>\n",
       "      <td>1.000000e+00</td>\n",
       "      <td>1.000000e+00</td>\n",
       "      <td>5.397605e-79</td>\n",
       "      <td>5.397605e-79</td>\n",
       "      <td>5.397605e-79</td>\n",
       "      <td>5.397605e-79</td>\n",
       "      <td>5.397605e-79</td>\n",
       "      <td>5.397605e-79</td>\n",
       "    </tr>\n",
       "    <tr>\n",
       "      <th>3</th>\n",
       "      <td>130386.0</td>\n",
       "      <td>5.397605e-79</td>\n",
       "      <td>5.397605e-79</td>\n",
       "      <td>5.397605e-79</td>\n",
       "      <td>5.397605e-79</td>\n",
       "      <td>5.397605e-79</td>\n",
       "      <td>1.000000e+00</td>\n",
       "      <td>5.397605e-79</td>\n",
       "      <td>5.397605e-79</td>\n",
       "      <td>5.397605e-79</td>\n",
       "      <td>5.397605e-79</td>\n",
       "    </tr>\n",
       "    <tr>\n",
       "      <th>4</th>\n",
       "      <td>130387.0</td>\n",
       "      <td>5.397605e-79</td>\n",
       "      <td>5.397605e-79</td>\n",
       "      <td>5.397605e-79</td>\n",
       "      <td>5.397605e-79</td>\n",
       "      <td>5.397605e-79</td>\n",
       "      <td>5.397605e-79</td>\n",
       "      <td>5.397605e-79</td>\n",
       "      <td>5.397605e-79</td>\n",
       "      <td>5.397605e-79</td>\n",
       "      <td>NaN</td>\n",
       "    </tr>\n",
       "    <tr>\n",
       "      <th>...</th>\n",
       "      <td>...</td>\n",
       "      <td>...</td>\n",
       "      <td>...</td>\n",
       "      <td>...</td>\n",
       "      <td>...</td>\n",
       "      <td>...</td>\n",
       "      <td>...</td>\n",
       "      <td>...</td>\n",
       "      <td>...</td>\n",
       "      <td>...</td>\n",
       "      <td>...</td>\n",
       "    </tr>\n",
       "    <tr>\n",
       "      <th>6332</th>\n",
       "      <td>142305.0</td>\n",
       "      <td>NaN</td>\n",
       "      <td>NaN</td>\n",
       "      <td>NaN</td>\n",
       "      <td>NaN</td>\n",
       "      <td>NaN</td>\n",
       "      <td>NaN</td>\n",
       "      <td>NaN</td>\n",
       "      <td>NaN</td>\n",
       "      <td>NaN</td>\n",
       "      <td>NaN</td>\n",
       "    </tr>\n",
       "    <tr>\n",
       "      <th>6333</th>\n",
       "      <td>142307.0</td>\n",
       "      <td>5.397605e-79</td>\n",
       "      <td>5.397605e-79</td>\n",
       "      <td>5.397605e-79</td>\n",
       "      <td>5.397605e-79</td>\n",
       "      <td>5.397605e-79</td>\n",
       "      <td>5.397605e-79</td>\n",
       "      <td>5.397605e-79</td>\n",
       "      <td>5.397605e-79</td>\n",
       "      <td>5.397605e-79</td>\n",
       "      <td>NaN</td>\n",
       "    </tr>\n",
       "    <tr>\n",
       "      <th>6334</th>\n",
       "      <td>142308.0</td>\n",
       "      <td>5.397605e-79</td>\n",
       "      <td>5.397605e-79</td>\n",
       "      <td>5.397605e-79</td>\n",
       "      <td>5.397605e-79</td>\n",
       "      <td>5.397605e-79</td>\n",
       "      <td>5.397605e-79</td>\n",
       "      <td>5.397605e-79</td>\n",
       "      <td>5.397605e-79</td>\n",
       "      <td>5.397605e-79</td>\n",
       "      <td>NaN</td>\n",
       "    </tr>\n",
       "    <tr>\n",
       "      <th>6335</th>\n",
       "      <td>142309.0</td>\n",
       "      <td>5.397605e-79</td>\n",
       "      <td>5.397605e-79</td>\n",
       "      <td>5.397605e-79</td>\n",
       "      <td>5.397605e-79</td>\n",
       "      <td>5.397605e-79</td>\n",
       "      <td>5.397605e-79</td>\n",
       "      <td>5.397605e-79</td>\n",
       "      <td>5.397605e-79</td>\n",
       "      <td>5.397605e-79</td>\n",
       "      <td>NaN</td>\n",
       "    </tr>\n",
       "    <tr>\n",
       "      <th>6336</th>\n",
       "      <td>142310.0</td>\n",
       "      <td>5.397605e-79</td>\n",
       "      <td>5.397605e-79</td>\n",
       "      <td>5.397605e-79</td>\n",
       "      <td>1.000000e+00</td>\n",
       "      <td>5.397605e-79</td>\n",
       "      <td>5.397605e-79</td>\n",
       "      <td>5.397605e-79</td>\n",
       "      <td>5.397605e-79</td>\n",
       "      <td>5.397605e-79</td>\n",
       "      <td>5.397605e-79</td>\n",
       "    </tr>\n",
       "  </tbody>\n",
       "</table>\n",
       "<p>6337 rows × 11 columns</p>\n",
       "</div>"
      ],
      "text/plain": [
       "          SEQN        DPQ010        DPQ020        DPQ030        DPQ040  \\\n",
       "0     130378.0           NaN           NaN           NaN           NaN   \n",
       "1     130379.0  5.397605e-79  5.397605e-79  1.000000e+00  5.397605e-79   \n",
       "2     130380.0  5.397605e-79  5.397605e-79  1.000000e+00  1.000000e+00   \n",
       "3     130386.0  5.397605e-79  5.397605e-79  5.397605e-79  5.397605e-79   \n",
       "4     130387.0  5.397605e-79  5.397605e-79  5.397605e-79  5.397605e-79   \n",
       "...        ...           ...           ...           ...           ...   \n",
       "6332  142305.0           NaN           NaN           NaN           NaN   \n",
       "6333  142307.0  5.397605e-79  5.397605e-79  5.397605e-79  5.397605e-79   \n",
       "6334  142308.0  5.397605e-79  5.397605e-79  5.397605e-79  5.397605e-79   \n",
       "6335  142309.0  5.397605e-79  5.397605e-79  5.397605e-79  5.397605e-79   \n",
       "6336  142310.0  5.397605e-79  5.397605e-79  5.397605e-79  1.000000e+00   \n",
       "\n",
       "            DPQ050        DPQ060        DPQ070        DPQ080        DPQ090  \\\n",
       "0              NaN           NaN           NaN           NaN           NaN   \n",
       "1     5.397605e-79  5.397605e-79  5.397605e-79  5.397605e-79  5.397605e-79   \n",
       "2     5.397605e-79  5.397605e-79  5.397605e-79  5.397605e-79  5.397605e-79   \n",
       "3     5.397605e-79  1.000000e+00  5.397605e-79  5.397605e-79  5.397605e-79   \n",
       "4     5.397605e-79  5.397605e-79  5.397605e-79  5.397605e-79  5.397605e-79   \n",
       "...            ...           ...           ...           ...           ...   \n",
       "6332           NaN           NaN           NaN           NaN           NaN   \n",
       "6333  5.397605e-79  5.397605e-79  5.397605e-79  5.397605e-79  5.397605e-79   \n",
       "6334  5.397605e-79  5.397605e-79  5.397605e-79  5.397605e-79  5.397605e-79   \n",
       "6335  5.397605e-79  5.397605e-79  5.397605e-79  5.397605e-79  5.397605e-79   \n",
       "6336  5.397605e-79  5.397605e-79  5.397605e-79  5.397605e-79  5.397605e-79   \n",
       "\n",
       "            DPQ100  \n",
       "0              NaN  \n",
       "1     5.397605e-79  \n",
       "2     5.397605e-79  \n",
       "3     5.397605e-79  \n",
       "4              NaN  \n",
       "...            ...  \n",
       "6332           NaN  \n",
       "6333           NaN  \n",
       "6334           NaN  \n",
       "6335           NaN  \n",
       "6336  5.397605e-79  \n",
       "\n",
       "[6337 rows x 11 columns]"
      ]
     },
     "metadata": {},
     "output_type": "display_data"
    }
   ],
   "source": [
    "display(depression_df)"
   ]
  },
  {
   "cell_type": "code",
   "execution_count": 317,
   "metadata": {},
   "outputs": [
    {
     "data": {
      "image/png": "[encoded data removed]",
      "text/plain": [
       "<Figure size 640x480 with 1 Axes>"
      ]
     },
     "metadata": {},
     "output_type": "display_data"
    }
   ],
   "source": [
    "# counts of total sums across all questions of last 10 columns only add if value is 1, 2, 3\n",
    "depression_df[\"DPQSUM\"] = depression_df.iloc[:, -10:].apply(lambda x: x[x.isin([1, 2, 3])].sum(), axis=1)\n",
    "\n",
    "# histogram of the sums\n",
    "plt.hist(depression_df[\"DPQSUM\"], bins=range(0, 27, 1))\n",
    "plt.title(\"Total Scores of Depression Questions\")\n",
    "plt.xlabel(\"Total Score\")\n",
    "plt.ylabel(\"Frequency\")\n",
    "plt.show()"
   ]
  },
  {
   "cell_type": "markdown",
   "metadata": {},
   "source": [
    "Load in the other data sets for prediction and casual understanding of depression scores"
   ]
  },
  {
   "cell_type": "code",
   "execution_count": 318,
   "metadata": {},
   "outputs": [],
   "source": [
    "base_dir = \"datasets\"\n",
    "dataframes = {}\n",
    "\n",
    "for root, dirs, files in os.walk(base_dir):\n",
    "    for file in files:\n",
    "        if file.endswith(\".xpt\"):\n",
    "            file_path = os.path.join(root, file)\n",
    "            dataset_name = os.path.splitext(file)[0]\n",
    "            new_df = pd.read_sas(file_path, format='xport', encoding='latin1')\n",
    "            dataframes[dataset_name] = new_df"
   ]
  },
  {
   "cell_type": "markdown",
   "metadata": {},
   "source": [
    "Create one large dataframe based on the overlapping SEQN values in each dataset"
   ]
  },
  {
   "cell_type": "code",
   "execution_count": 319,
   "metadata": {},
   "outputs": [],
   "source": [
    "filtered_dataframes = []\n",
    "\n",
    "for name, df in dataframes.items():\n",
    "    missingness = df.isnull().mean() * 100\n",
    "    low_missingness_cols = missingness[missingness <= MISSINGNESS_THRESHOLD].index\n",
    "    filtered_df = df[low_missingness_cols]\n",
    "    filtered_dataframes.append(filtered_df)\n",
    "\n",
    "# Find common SEQNs across all DataFrames\n",
    "common_seqn = set(filtered_dataframes[0][\"SEQN\"])\n",
    "for df in filtered_dataframes[1:]:\n",
    "    # print name of dataframe if it has no SEQN column\n",
    "    if \"SEQN\" not in df.columns:\n",
    "        print(df)\n",
    "    common_seqn = common_seqn.intersection(df[\"SEQN\"])\n",
    "\n",
    "# Filter DataFrames to include only rows with common SEQNs\n",
    "filtered_dataframes = [df[df[\"SEQN\"].isin(common_seqn)] for df in filtered_dataframes]\n"
   ]
  },
  {
   "cell_type": "code",
   "execution_count": 320,
   "metadata": {},
   "outputs": [
    {
     "data": {
      "text/html": [
       "<div>\n",
       "<style scoped>\n",
       "    .dataframe tbody tr th:only-of-type {\n",
       "        vertical-align: middle;\n",
       "    }\n",
       "\n",
       "    .dataframe tbody tr th {\n",
       "        vertical-align: top;\n",
       "    }\n",
       "\n",
       "    .dataframe thead th {\n",
       "        text-align: right;\n",
       "    }\n",
       "</style>\n",
       "<table border=\"1\" class=\"dataframe\">\n",
       "  <thead>\n",
       "    <tr style=\"text-align: right;\">\n",
       "      <th></th>\n",
       "      <th>SDDSRVYR</th>\n",
       "      <th>RIDSTATR</th>\n",
       "      <th>RIAGENDR</th>\n",
       "      <th>RIDAGEYR</th>\n",
       "      <th>RIDRETH1</th>\n",
       "      <th>RIDRETH3</th>\n",
       "      <th>DMDBORN4</th>\n",
       "      <th>DMDHHSIZ</th>\n",
       "      <th>WTINT2YR</th>\n",
       "      <th>WTMEC2YR</th>\n",
       "      <th>...</th>\n",
       "      <th>SMQ846</th>\n",
       "      <th>SMQ851</th>\n",
       "      <th>SMDANY</th>\n",
       "      <th>SMQ020</th>\n",
       "      <th>SMAQUEX2</th>\n",
       "      <th>WHD010</th>\n",
       "      <th>WHD020</th>\n",
       "      <th>WHD050</th>\n",
       "      <th>WHQ070</th>\n",
       "      <th>DPQSUM</th>\n",
       "    </tr>\n",
       "  </thead>\n",
       "  <tbody>\n",
       "    <tr>\n",
       "      <th>0</th>\n",
       "      <td>12.0</td>\n",
       "      <td>2.0</td>\n",
       "      <td>1.0</td>\n",
       "      <td>43.0</td>\n",
       "      <td>5.0</td>\n",
       "      <td>6.0</td>\n",
       "      <td>2.0</td>\n",
       "      <td>4.0</td>\n",
       "      <td>50055.450807</td>\n",
       "      <td>54374.463898</td>\n",
       "      <td>...</td>\n",
       "      <td>NaN</td>\n",
       "      <td>NaN</td>\n",
       "      <td>NaN</td>\n",
       "      <td>1.0</td>\n",
       "      <td>1.0</td>\n",
       "      <td>71.0</td>\n",
       "      <td>190.0</td>\n",
       "      <td>200.0</td>\n",
       "      <td>1.0</td>\n",
       "      <td>0.0</td>\n",
       "    </tr>\n",
       "    <tr>\n",
       "      <th>1</th>\n",
       "      <td>12.0</td>\n",
       "      <td>2.0</td>\n",
       "      <td>1.0</td>\n",
       "      <td>66.0</td>\n",
       "      <td>3.0</td>\n",
       "      <td>3.0</td>\n",
       "      <td>1.0</td>\n",
       "      <td>2.0</td>\n",
       "      <td>29087.450605</td>\n",
       "      <td>34084.721548</td>\n",
       "      <td>...</td>\n",
       "      <td>2.0</td>\n",
       "      <td>2.0</td>\n",
       "      <td>2.0</td>\n",
       "      <td>1.0</td>\n",
       "      <td>1.0</td>\n",
       "      <td>70.0</td>\n",
       "      <td>220.0</td>\n",
       "      <td>220.0</td>\n",
       "      <td>2.0</td>\n",
       "      <td>1.0</td>\n",
       "    </tr>\n",
       "    <tr>\n",
       "      <th>2</th>\n",
       "      <td>12.0</td>\n",
       "      <td>2.0</td>\n",
       "      <td>2.0</td>\n",
       "      <td>44.0</td>\n",
       "      <td>2.0</td>\n",
       "      <td>2.0</td>\n",
       "      <td>2.0</td>\n",
       "      <td>7.0</td>\n",
       "      <td>80062.674301</td>\n",
       "      <td>81196.277992</td>\n",
       "      <td>...</td>\n",
       "      <td>2.0</td>\n",
       "      <td>2.0</td>\n",
       "      <td>2.0</td>\n",
       "      <td>2.0</td>\n",
       "      <td>1.0</td>\n",
       "      <td>60.0</td>\n",
       "      <td>150.0</td>\n",
       "      <td>165.0</td>\n",
       "      <td>1.0</td>\n",
       "      <td>2.0</td>\n",
       "    </tr>\n",
       "    <tr>\n",
       "      <th>3</th>\n",
       "      <td>12.0</td>\n",
       "      <td>2.0</td>\n",
       "      <td>1.0</td>\n",
       "      <td>34.0</td>\n",
       "      <td>1.0</td>\n",
       "      <td>1.0</td>\n",
       "      <td>1.0</td>\n",
       "      <td>3.0</td>\n",
       "      <td>30995.282610</td>\n",
       "      <td>39988.452940</td>\n",
       "      <td>...</td>\n",
       "      <td>2.0</td>\n",
       "      <td>2.0</td>\n",
       "      <td>2.0</td>\n",
       "      <td>1.0</td>\n",
       "      <td>1.0</td>\n",
       "      <td>68.0</td>\n",
       "      <td>200.0</td>\n",
       "      <td>180.0</td>\n",
       "      <td>2.0</td>\n",
       "      <td>1.0</td>\n",
       "    </tr>\n",
       "    <tr>\n",
       "      <th>4</th>\n",
       "      <td>12.0</td>\n",
       "      <td>2.0</td>\n",
       "      <td>2.0</td>\n",
       "      <td>68.0</td>\n",
       "      <td>3.0</td>\n",
       "      <td>3.0</td>\n",
       "      <td>1.0</td>\n",
       "      <td>1.0</td>\n",
       "      <td>19896.970559</td>\n",
       "      <td>20776.254850</td>\n",
       "      <td>...</td>\n",
       "      <td>2.0</td>\n",
       "      <td>2.0</td>\n",
       "      <td>2.0</td>\n",
       "      <td>2.0</td>\n",
       "      <td>1.0</td>\n",
       "      <td>67.0</td>\n",
       "      <td>215.0</td>\n",
       "      <td>215.0</td>\n",
       "      <td>2.0</td>\n",
       "      <td>0.0</td>\n",
       "    </tr>\n",
       "    <tr>\n",
       "      <th>...</th>\n",
       "      <td>...</td>\n",
       "      <td>...</td>\n",
       "      <td>...</td>\n",
       "      <td>...</td>\n",
       "      <td>...</td>\n",
       "      <td>...</td>\n",
       "      <td>...</td>\n",
       "      <td>...</td>\n",
       "      <td>...</td>\n",
       "      <td>...</td>\n",
       "      <td>...</td>\n",
       "      <td>...</td>\n",
       "      <td>...</td>\n",
       "      <td>...</td>\n",
       "      <td>...</td>\n",
       "      <td>...</td>\n",
       "      <td>...</td>\n",
       "      <td>...</td>\n",
       "      <td>...</td>\n",
       "      <td>...</td>\n",
       "      <td>...</td>\n",
       "    </tr>\n",
       "    <tr>\n",
       "      <th>4766</th>\n",
       "      <td>12.0</td>\n",
       "      <td>2.0</td>\n",
       "      <td>2.0</td>\n",
       "      <td>46.0</td>\n",
       "      <td>1.0</td>\n",
       "      <td>1.0</td>\n",
       "      <td>2.0</td>\n",
       "      <td>5.0</td>\n",
       "      <td>28399.611503</td>\n",
       "      <td>30517.128836</td>\n",
       "      <td>...</td>\n",
       "      <td>2.0</td>\n",
       "      <td>2.0</td>\n",
       "      <td>2.0</td>\n",
       "      <td>1.0</td>\n",
       "      <td>1.0</td>\n",
       "      <td>62.0</td>\n",
       "      <td>169.0</td>\n",
       "      <td>172.0</td>\n",
       "      <td>1.0</td>\n",
       "      <td>3.0</td>\n",
       "    </tr>\n",
       "    <tr>\n",
       "      <th>4767</th>\n",
       "      <td>12.0</td>\n",
       "      <td>2.0</td>\n",
       "      <td>2.0</td>\n",
       "      <td>69.0</td>\n",
       "      <td>5.0</td>\n",
       "      <td>7.0</td>\n",
       "      <td>1.0</td>\n",
       "      <td>2.0</td>\n",
       "      <td>33250.569425</td>\n",
       "      <td>47087.576098</td>\n",
       "      <td>...</td>\n",
       "      <td>2.0</td>\n",
       "      <td>2.0</td>\n",
       "      <td>2.0</td>\n",
       "      <td>1.0</td>\n",
       "      <td>1.0</td>\n",
       "      <td>63.0</td>\n",
       "      <td>165.0</td>\n",
       "      <td>160.0</td>\n",
       "      <td>1.0</td>\n",
       "      <td>0.0</td>\n",
       "    </tr>\n",
       "    <tr>\n",
       "      <th>4768</th>\n",
       "      <td>12.0</td>\n",
       "      <td>2.0</td>\n",
       "      <td>2.0</td>\n",
       "      <td>49.0</td>\n",
       "      <td>4.0</td>\n",
       "      <td>4.0</td>\n",
       "      <td>1.0</td>\n",
       "      <td>5.0</td>\n",
       "      <td>69419.620456</td>\n",
       "      <td>64962.328962</td>\n",
       "      <td>...</td>\n",
       "      <td>1.0</td>\n",
       "      <td>2.0</td>\n",
       "      <td>1.0</td>\n",
       "      <td>1.0</td>\n",
       "      <td>1.0</td>\n",
       "      <td>61.0</td>\n",
       "      <td>206.0</td>\n",
       "      <td>235.0</td>\n",
       "      <td>1.0</td>\n",
       "      <td>0.0</td>\n",
       "    </tr>\n",
       "    <tr>\n",
       "      <th>4769</th>\n",
       "      <td>12.0</td>\n",
       "      <td>2.0</td>\n",
       "      <td>1.0</td>\n",
       "      <td>50.0</td>\n",
       "      <td>2.0</td>\n",
       "      <td>2.0</td>\n",
       "      <td>2.0</td>\n",
       "      <td>3.0</td>\n",
       "      <td>32696.313477</td>\n",
       "      <td>44367.534132</td>\n",
       "      <td>...</td>\n",
       "      <td>2.0</td>\n",
       "      <td>2.0</td>\n",
       "      <td>2.0</td>\n",
       "      <td>2.0</td>\n",
       "      <td>1.0</td>\n",
       "      <td>69.0</td>\n",
       "      <td>174.0</td>\n",
       "      <td>180.0</td>\n",
       "      <td>1.0</td>\n",
       "      <td>0.0</td>\n",
       "    </tr>\n",
       "    <tr>\n",
       "      <th>4770</th>\n",
       "      <td>12.0</td>\n",
       "      <td>2.0</td>\n",
       "      <td>1.0</td>\n",
       "      <td>40.0</td>\n",
       "      <td>2.0</td>\n",
       "      <td>2.0</td>\n",
       "      <td>1.0</td>\n",
       "      <td>5.0</td>\n",
       "      <td>30547.974564</td>\n",
       "      <td>46249.361849</td>\n",
       "      <td>...</td>\n",
       "      <td>2.0</td>\n",
       "      <td>2.0</td>\n",
       "      <td>2.0</td>\n",
       "      <td>2.0</td>\n",
       "      <td>1.0</td>\n",
       "      <td>69.0</td>\n",
       "      <td>200.0</td>\n",
       "      <td>170.0</td>\n",
       "      <td>2.0</td>\n",
       "      <td>0.0</td>\n",
       "    </tr>\n",
       "  </tbody>\n",
       "</table>\n",
       "<p>4771 rows × 86 columns</p>\n",
       "</div>"
      ],
      "text/plain": [
       "      SDDSRVYR  RIDSTATR  RIAGENDR  RIDAGEYR  RIDRETH1  RIDRETH3  DMDBORN4  \\\n",
       "0         12.0       2.0       1.0      43.0       5.0       6.0       2.0   \n",
       "1         12.0       2.0       1.0      66.0       3.0       3.0       1.0   \n",
       "2         12.0       2.0       2.0      44.0       2.0       2.0       2.0   \n",
       "3         12.0       2.0       1.0      34.0       1.0       1.0       1.0   \n",
       "4         12.0       2.0       2.0      68.0       3.0       3.0       1.0   \n",
       "...        ...       ...       ...       ...       ...       ...       ...   \n",
       "4766      12.0       2.0       2.0      46.0       1.0       1.0       2.0   \n",
       "4767      12.0       2.0       2.0      69.0       5.0       7.0       1.0   \n",
       "4768      12.0       2.0       2.0      49.0       4.0       4.0       1.0   \n",
       "4769      12.0       2.0       1.0      50.0       2.0       2.0       2.0   \n",
       "4770      12.0       2.0       1.0      40.0       2.0       2.0       1.0   \n",
       "\n",
       "      DMDHHSIZ      WTINT2YR      WTMEC2YR  ...  SMQ846  SMQ851  SMDANY  \\\n",
       "0          4.0  50055.450807  54374.463898  ...     NaN     NaN     NaN   \n",
       "1          2.0  29087.450605  34084.721548  ...     2.0     2.0     2.0   \n",
       "2          7.0  80062.674301  81196.277992  ...     2.0     2.0     2.0   \n",
       "3          3.0  30995.282610  39988.452940  ...     2.0     2.0     2.0   \n",
       "4          1.0  19896.970559  20776.254850  ...     2.0     2.0     2.0   \n",
       "...        ...           ...           ...  ...     ...     ...     ...   \n",
       "4766       5.0  28399.611503  30517.128836  ...     2.0     2.0     2.0   \n",
       "4767       2.0  33250.569425  47087.576098  ...     2.0     2.0     2.0   \n",
       "4768       5.0  69419.620456  64962.328962  ...     1.0     2.0     1.0   \n",
       "4769       3.0  32696.313477  44367.534132  ...     2.0     2.0     2.0   \n",
       "4770       5.0  30547.974564  46249.361849  ...     2.0     2.0     2.0   \n",
       "\n",
       "      SMQ020  SMAQUEX2  WHD010  WHD020  WHD050  WHQ070  DPQSUM  \n",
       "0        1.0       1.0    71.0   190.0   200.0     1.0     0.0  \n",
       "1        1.0       1.0    70.0   220.0   220.0     2.0     1.0  \n",
       "2        2.0       1.0    60.0   150.0   165.0     1.0     2.0  \n",
       "3        1.0       1.0    68.0   200.0   180.0     2.0     1.0  \n",
       "4        2.0       1.0    67.0   215.0   215.0     2.0     0.0  \n",
       "...      ...       ...     ...     ...     ...     ...     ...  \n",
       "4766     1.0       1.0    62.0   169.0   172.0     1.0     3.0  \n",
       "4767     1.0       1.0    63.0   165.0   160.0     1.0     0.0  \n",
       "4768     1.0       1.0    61.0   206.0   235.0     1.0     0.0  \n",
       "4769     2.0       1.0    69.0   174.0   180.0     1.0     0.0  \n",
       "4770     2.0       1.0    69.0   200.0   170.0     2.0     0.0  \n",
       "\n",
       "[4771 rows x 86 columns]"
      ]
     },
     "metadata": {},
     "output_type": "display_data"
    }
   ],
   "source": [
    "merged_df = reduce(lambda left, right: pd.merge(left, right, on='SEQN', how='inner'), filtered_dataframes)\n",
    "\n",
    "# merge depressed_df dpqsum column with merged_df\n",
    "merged_df = pd.merge(merged_df, depression_df[[\"SEQN\", \"DPQSUM\"]], on=\"SEQN\", how=\"inner\")\n",
    "\n",
    "# drop SEQN column\n",
    "merged_df = merged_df.drop(columns=[\"SEQN\"])\n",
    "\n",
    "display(merged_df)"
   ]
  },
  {
   "cell_type": "markdown",
   "metadata": {},
   "source": [
    "Deal with non-numeric columns"
   ]
  },
  {
   "cell_type": "code",
   "execution_count": 321,
   "metadata": {},
   "outputs": [],
   "source": [
    "# Fix physical activity columns to be standardized\n",
    "\n",
    "unit_conversion = {'D': 365, 'W': 52.14, 'M': 12, 'Y': 1}\n",
    "\n",
    "def standardize_frequency(row, freq_col, unit_col):\n",
    "    if pd.isna(row[unit_col]) or pd.isna(row[freq_col]):\n",
    "        return None  \n",
    "    return row[freq_col] * unit_conversion.get(row[unit_col], 1)\n",
    "\n",
    "merged_df['PAD790_annualized'] = merged_df.apply(\n",
    "    lambda row: standardize_frequency(row, 'PAD790Q', 'PAD790U'), axis=1)\n",
    "\n",
    "merged_df['PAD810_annualized'] = merged_df.apply(\n",
    "    lambda row: standardize_frequency(row, 'PAD810Q', 'PAD810U'), axis=1)\n",
    "\n",
    "# merged_df['PAD790_total_minutes'] = merged_df['PAD790_annualized'] * merged_df['PAD800']\n",
    "# merged_df['PAD810_total_minutes'] = merged_df['PAD810_annualized'] * merged_df['PAD820']\n",
    "\n",
    "# merged_df = merged_df.drop(columns=['PAD800', 'PAD820'])\n",
    "merged_df = merged_df.drop(columns=['PAD790Q', 'PAD790U', 'PAD810Q', 'PAD810U'])"
   ]
  },
  {
   "cell_type": "markdown",
   "metadata": {},
   "source": [
    "Deal with more non-numeric columns"
   ]
  },
  {
   "cell_type": "code",
   "execution_count": null,
   "metadata": {},
   "outputs": [],
   "source": [
    "for col in ['SLQ300', 'SLQ310', 'SLQ320', 'SLQ330']:\n",
    "    merged_df[col] = pd.to_numeric(merged_df[col].str.replace(r'\\D', ''), errors='coerce')"
   ]
  },
  {
   "cell_type": "markdown",
   "metadata": {},
   "source": [
    "Impute based on given strategy"
   ]
  },
  {
   "cell_type": "code",
   "execution_count": 323,
   "metadata": {},
   "outputs": [],
   "source": [
    "if IMPUTATION_STRATEGY == 'KNN':\n",
    "    imputer = KNNImputer(n_neighbors=KNN_NEIGHBORS)\n",
    "else:\n",
    "    imputer = SimpleImputer(strategy=f'{IMPUTATION_STRATEGY}')\n",
    "\n",
    "merged_df = pd.DataFrame(imputer.fit_transform(merged_df), columns=merged_df.columns)"
   ]
  },
  {
   "cell_type": "code",
   "execution_count": 324,
   "metadata": {},
   "outputs": [],
   "source": [
    "# need just one column for depression score not individual questions, but keep dpq sum column\n",
    "merged_df = merged_df.drop(columns=merged_df.columns[merged_df.columns.str.startswith(\"DPQ\") & ~merged_df.columns.str.startswith(\"DPQSUM\")])\n",
    "\n",
    "# dpqsum at end\n",
    "merged_df = merged_df[[c for c in merged_df if c != 'DPQSUM'] + ['DPQSUM']]"
   ]
  },
  {
   "cell_type": "markdown",
   "metadata": {},
   "source": [
    "Split up target (dpqsum) two different ways: binary (depressed or not) and continuous (minimal, mild, moderate, moderately severe, severe)\n",
    "\n",
    "Binary: 0-9 not depressed, 10-27 depressed\n",
    "\n",
    "Continuous: 0-4 minimal, 5-9 mild, 10-14 moderate, 15-19 moderately severe, 20-27 severe\n"
   ]
  },
  {
   "cell_type": "code",
   "execution_count": null,
   "metadata": {},
   "outputs": [
    {
     "name": "stdout",
     "output_type": "stream",
     "text": [
      "Binary Target Distribution:\n",
      "DEPRESSED\n",
      "0    4099\n",
      "1     672\n",
      "Name: count, dtype: int64\n",
      "Continuous Target Distribution:\n",
      "DEPRESSION_LEVEL\n",
      "1    3235\n",
      "2     864\n",
      "3     411\n",
      "4     159\n",
      "5     102\n",
      "Name: count, dtype: int64\n"
     ]
    }
   ],
   "source": [
    "merged_df[\"DEPRESSED\"] = merged_df[\"DPQSUM\"].apply(lambda x: 1 if x >= BINARY_THRESHOLD else 0)\n",
    "merged_df[\"DEPRESSION_LEVEL\"] = merged_df[\"DPQSUM\"].apply(lambda x: 1 if x < 5 else 2 if x < 10 else 3 if x < 15 else 4 if x < 20 else 5)\n",
    "\n",
    "# distribution of these targets\n",
    "print(\"Binary Target Distribution:\")\n",
    "print(merged_df[\"DEPRESSED\"].value_counts())\n",
    "print(\"Continuous Target Distribution:\")\n",
    "print(merged_df[\"DEPRESSION_LEVEL\"].value_counts())"
   ]
  },
  {
   "cell_type": "markdown",
   "metadata": {},
   "source": [
    "Far more rows are not depressed than depressed, so we need to randomly remove the non-depressed rows to balance the dataset. We do not want a biased classifier that always predicts not depressed."
   ]
  },
  {
   "cell_type": "code",
   "execution_count": 326,
   "metadata": {},
   "outputs": [
    {
     "name": "stdout",
     "output_type": "stream",
     "text": [
      "New Binary Target Distribution:\n",
      "DEPRESSED\n",
      "0    672\n",
      "1    672\n",
      "Name: count, dtype: int64\n"
     ]
    }
   ],
   "source": [
    "not_depressed = merged_df[merged_df['DEPRESSED'] == 0]\n",
    "depressed = merged_df[merged_df['DEPRESSED'] == 1]\n",
    "\n",
    "# randomly remove some not depressed samples to balance the dataset\n",
    "not_depressed_downsampled = resample(not_depressed, replace=False, n_samples=len(depressed), random_state=42)\n",
    "\n",
    "balanced_df = pd.concat([not_depressed_downsampled, depressed])\n",
    "balanced_df = balanced_df.sample(frac=1, random_state=42).reset_index(drop=True)\n",
    "\n",
    "# remove dpqsum column\n",
    "balanced_df = balanced_df.drop(columns=\"DPQSUM\")\n",
    "\n",
    "print(\"New Binary Target Distribution:\")\n",
    "print(balanced_df['DEPRESSED'].value_counts())"
   ]
  },
  {
   "cell_type": "code",
   "execution_count": 327,
   "metadata": {},
   "outputs": [],
   "source": [
    "X = balanced_df.drop(columns=[\"DEPRESSED\", \"DEPRESSION_LEVEL\"])\n",
    "y_binary = balanced_df[\"DEPRESSED\"]\n",
    "y_continuous = balanced_df[\"DEPRESSION_LEVEL\"]\n",
    "X_train, X_test, y_binary_train, y_binary_test, y_continuous_train, y_continuous_test = train_test_split(X, y_binary, y_continuous, test_size=0.2, random_state=42)"
   ]
  },
  {
   "cell_type": "code",
   "execution_count": 328,
   "metadata": {},
   "outputs": [],
   "source": [
    "results = {}"
   ]
  },
  {
   "cell_type": "markdown",
   "metadata": {},
   "source": [
    "Try Random Forest model"
   ]
  },
  {
   "cell_type": "code",
   "execution_count": 329,
   "metadata": {},
   "outputs": [
    {
     "name": "stdout",
     "output_type": "stream",
     "text": [
      "Binary Target Accuracy: 0.7657992565055762\n",
      "Binary Target Classification Report:\n",
      "              precision    recall  f1-score   support\n",
      "\n",
      "           0       0.79      0.76      0.78       144\n",
      "           1       0.74      0.77      0.75       125\n",
      "\n",
      "    accuracy                           0.77       269\n",
      "   macro avg       0.76      0.77      0.77       269\n",
      "weighted avg       0.77      0.77      0.77       269\n",
      "\n"
     ]
    }
   ],
   "source": [
    "randomForest = RandomForestClassifier(random_state=42, max_depth=3, n_estimators=100)\n",
    "randomForest.fit(X_train, y_binary_train)\n",
    "\n",
    "y_binary_pred = randomForest.predict(X_test)\n",
    "print(\"Binary Target Accuracy:\", accuracy_score(y_binary_test, y_binary_pred))\n",
    "print(\"Binary Target Classification Report:\")\n",
    "print(classification_report(y_binary_test, y_binary_pred))"
   ]
  },
  {
   "cell_type": "code",
   "execution_count": 330,
   "metadata": {},
   "outputs": [
    {
     "name": "stdout",
     "output_type": "stream",
     "text": [
      "Random Forest Mean Score: 0.7366060034400489\n"
     ]
    }
   ],
   "source": [
    "scores = cross_val_score(randomForest, X, y_binary, cv=5)\n",
    "print(\"Random Forest Mean Score:\", scores.mean())\n",
    "results[\"Random Forest\"] = scores.mean()"
   ]
  },
  {
   "cell_type": "markdown",
   "metadata": {},
   "source": [
    "Try Logistic Regression Model"
   ]
  },
  {
   "cell_type": "code",
   "execution_count": 331,
   "metadata": {},
   "outputs": [
    {
     "name": "stdout",
     "output_type": "stream",
     "text": [
      "Logistic Regression Mean Score: 0.7157548687787827\n"
     ]
    }
   ],
   "source": [
    "lr_model = LogisticRegression(max_iter=1000, random_state=42)\n",
    "scaler = StandardScaler()\n",
    "X_scaled = scaler.fit_transform(X)\n",
    "lr_scores = cross_val_score(lr_model, X_scaled, y_binary, cv=5)\n",
    "print(\"Logistic Regression Mean Score:\", lr_scores.mean())\n",
    "results[\"Logistic Regression\"] = lr_scores.mean()"
   ]
  },
  {
   "cell_type": "markdown",
   "metadata": {},
   "source": [
    "Try SVM Model"
   ]
  },
  {
   "cell_type": "code",
   "execution_count": 332,
   "metadata": {},
   "outputs": [
    {
     "name": "stdout",
     "output_type": "stream",
     "text": [
      "SVM Mean Score: 0.7135438051378793\n"
     ]
    }
   ],
   "source": [
    "svm = SVC(kernel='rbf', random_state=42)\n",
    "cv_scores = cross_val_score(svm, X_scaled, y_binary, cv=5)\n",
    "print(\"SVM Mean Score:\", cv_scores.mean())\n",
    "results[\"SVM\"] = cv_scores.mean()"
   ]
  },
  {
   "cell_type": "markdown",
   "metadata": {},
   "source": [
    "Try XGBoost Model"
   ]
  },
  {
   "cell_type": "code",
   "execution_count": 333,
   "metadata": {},
   "outputs": [
    {
     "name": "stdout",
     "output_type": "stream",
     "text": [
      "XGBoost Mean Score: 0.7433307440492704\n"
     ]
    }
   ],
   "source": [
    "xgboost_model = XGBClassifier()\n",
    "scores = cross_val_score(xgboost_model, X.to_numpy(), y_binary, cv=5, error_score='raise')\n",
    "print(\"XGBoost Mean Score:\", scores.mean())\n",
    "results[\"XGBoost\"] = scores.mean()"
   ]
  },
  {
   "cell_type": "markdown",
   "metadata": {},
   "source": [
    "Try LGBM Model"
   ]
  },
  {
   "cell_type": "code",
   "execution_count": 334,
   "metadata": {},
   "outputs": [
    {
     "name": "stdout",
     "output_type": "stream",
     "text": [
      "LightGBM Mean Score: 0.7403290240248571\n"
     ]
    }
   ],
   "source": [
    "lgbm = LGBMClassifier(random_state=42, verbose=-1)\n",
    "cv_scores = cross_val_score(lgbm, X, y_binary, cv=5)\n",
    "print(\"LightGBM Mean Score:\", cv_scores.mean())\n",
    "results[\"LightGBM\"] = cv_scores.mean()"
   ]
  },
  {
   "cell_type": "markdown",
   "metadata": {},
   "source": [
    "Use Stacking Classifier (Logistic Regression on top of Random Forest, XGBoost, LGBM)"
   ]
  },
  {
   "cell_type": "code",
   "execution_count": 335,
   "metadata": {},
   "outputs": [
    {
     "name": "stdout",
     "output_type": "stream",
     "text": [
      "Stacked Model Mean Score: 0.7440520446096655\n"
     ]
    }
   ],
   "source": [
    "meta_model = LogisticRegression(max_iter=10000, random_state=42)\n",
    "\n",
    "stacked_model = StackingClassifier(\n",
    "    estimators=[\n",
    "        ('rf', randomForest),\n",
    "        # ('lr', lr_model),\n",
    "        ('xgb', xgboost_model),\n",
    "        ('lgbm', lgbm),\n",
    "        # ('svm', svm)\n",
    "    ],\n",
    "    final_estimator=meta_model,\n",
    "    cv=5\n",
    ")\n",
    "\n",
    "stacked_scores = cross_val_score(stacked_model, X, y_binary, cv=5)\n",
    "print(\"Stacked Model Mean Score:\", stacked_scores.mean())\n",
    "results[\"Stacked Model\"] = stacked_scores.mean()"
   ]
  },
  {
   "cell_type": "code",
   "execution_count": 336,
   "metadata": {},
   "outputs": [
    {
     "name": "stdout",
     "output_type": "stream",
     "text": [
      "Random Forest Mean Score: 0.7366060034400489\n",
      "Logistic Regression Mean Score: 0.7157548687787827\n",
      "SVM Mean Score: 0.7135438051378793\n",
      "XGBoost Mean Score: 0.7433307440492704\n",
      "LightGBM Mean Score: 0.7403290240248571\n",
      "Stacked Model Mean Score: 0.7440520446096655\n"
     ]
    }
   ],
   "source": [
    "for model, score in results.items():\n",
    "    print(f\"{model} Mean Score: {score}\")"
   ]
  },
  {
   "cell_type": "markdown",
   "metadata": {},
   "source": [
    "Let's look at feature importance"
   ]
  },
  {
   "cell_type": "code",
   "execution_count": 337,
   "metadata": {},
   "outputs": [],
   "source": [
    "# used for displaying graphs\n",
    "feature_name_mapping = {\n",
    "    'HUQ010': 'General Health Condition',\n",
    "    'HUQ090': 'Seen mental health professional/past yr',\n",
    "    'BAQ321B': 'Past 12 months, prblms w/blurring vision',\n",
    "    'BAQ321C': 'Past 12 months, problems with unsteady',\n",
    "    'INDFMPIR': 'Family Poverty Income Ratio',\n",
    "    'BAQ530': 'Past 5 years, how many times fallen?',\n",
    "    'INDFMMPC': 'Family Monthly Poverty Level',\n",
    "    'SMDANY': 'Used any tobacco product last 5 days',\n",
    "    'OHQ620': 'How Often Aching in Mouth',\n",
    "    'BAQ321D': 'Past 12 months, problems w/light-headed',\n",
    "    'OHQ845': 'Health of Teeth and Gums',\n",
    "    'SLD012': 'Sleep hours - weekdays or workdays',\n",
    "    'SLQ310': 'Usual wake time on weekdays or workdays',\n",
    "    'SLQ330': 'Usual wake time on weekends',\n",
    "    'INQ300': 'Family has savings more than $20,000',\n",
    "    'SMQ681': 'Smoked tobacco last 5 days',\n",
    "    'SMQ851': 'Used smokeless tobacco last 5 days',\n",
    "    'BAQ321A': 'Past 12 months, problems with vertigo',\n",
    "    'PAD790_annualized': 'Annualized Moderate Physical Activity',\n",
    "    'RIDAGEYR': 'Age in Years',\n",
    "    'HOD051': 'Number of rooms in home',\n",
    "    'DMDHHSIZ': 'Total number of people in the household',\n",
    "    'BMXARML': 'Upper Arm Length (cm)',\n",
    "    'BMXBMI': 'Body Mass Index (kg/m^2)',\n",
    "    'SMQ846': 'Used last 5 days - E-cigarettes',\n",
    "    }"
   ]
  },
  {
   "cell_type": "code",
   "execution_count": 338,
   "metadata": {},
   "outputs": [
    {
     "data": {
      "image/png": "[encoded data removed]",
      "text/plain": [
       "<Figure size 1000x600 with 1 Axes>"
      ]
     },
     "metadata": {},
     "output_type": "display_data"
    }
   ],
   "source": [
    "importances = randomForest.feature_importances_\n",
    "features = X.columns\n",
    "importance_df = pd.DataFrame({'Feature': features, 'Importance': importances})\n",
    "importance_df = importance_df.sort_values(by='Importance', ascending=False).head(20)\n",
    "\n",
    "importance_df['Feature'] = importance_df['Feature'].map(feature_name_mapping)\n",
    "\n",
    "plt.figure(figsize=(10, 6))\n",
    "plt.barh(importance_df['Feature'], importance_df['Importance'])\n",
    "plt.gca().invert_yaxis()\n",
    "plt.xlabel('Importance Score')\n",
    "plt.title('Top 20 Feature Importances for Random Forest')\n",
    "plt.show()"
   ]
  },
  {
   "cell_type": "code",
   "execution_count": 339,
   "metadata": {},
   "outputs": [
    {
     "data": {
      "image/png": "[encoded data removed]",
      "text/plain": [
       "<Figure size 1000x600 with 1 Axes>"
      ]
     },
     "metadata": {},
     "output_type": "display_data"
    }
   ],
   "source": [
    "perm_importance = permutation_importance(randomForest, X, y_binary, scoring='accuracy', random_state=42)\n",
    "\n",
    "importance_df = pd.DataFrame({\n",
    "    'Feature': X.columns,\n",
    "    'Importance': perm_importance.importances_mean\n",
    "}).sort_values(by='Importance', ascending=False).head(10)\n",
    "\n",
    "importance_df['Feature'] = importance_df['Feature'].map(feature_name_mapping)\n",
    "\n",
    "plt.figure(figsize=(10, 6))\n",
    "plt.barh(importance_df['Feature'], importance_df['Importance'])\n",
    "plt.gca().invert_yaxis()\n",
    "plt.xlabel('Permutation Importance')\n",
    "plt.title('Top 10 Features by Permutation Importance')\n",
    "plt.show()"
   ]
  }
 ],
 "metadata": {
  "kernelspec": {
   "display_name": "Python 3",
   "language": "python",
   "name": "python3"
  },
  "language_info": {
   "codemirror_mode": {
    "name": "ipython",
    "version": 3
   },
   "file_extension": ".py",
   "mimetype": "text/x-python",
   "name": "python",
   "nbconvert_exporter": "python",
   "pygments_lexer": "ipython3",
   "version": "3.10.5"
  }
 },
 "nbformat": 4,
 "nbformat_minor": 2
}
